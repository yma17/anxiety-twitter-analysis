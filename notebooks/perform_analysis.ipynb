{
 "cells": [
  {
   "cell_type": "code",
   "execution_count": 26,
   "id": "e8d5554d",
   "metadata": {},
   "outputs": [],
   "source": [
    "import pandas as pd\n",
    "import math\n",
    "import matplotlib.pyplot as plt\n",
    "import seaborn as sns\n",
    "from glob import glob\n",
    "import numpy as np\n",
    "import random\n",
    "from tqdm import tqdm\n",
    "from sklearn.model_selection import train_test_split\n",
    "from sklearn import metrics\n",
    "from sklearn.metrics import accuracy_score, precision_score, recall_score, f1_score, roc_curve, auc\n",
    "import scipy as sp\n",
    "from better_profanity import profanity\n",
    "from vaderSentiment.vaderSentiment import SentimentIntensityAnalyzer"
   ]
  },
  {
   "cell_type": "code",
   "execution_count": 16,
   "id": "c4a2201c",
   "metadata": {
    "scrolled": true
   },
   "outputs": [
    {
     "name": "stdout",
     "output_type": "stream",
     "text": [
      "Requirement already satisfied: better_profanity in /home/ericm/anaconda3/lib/python3.8/site-packages (0.7.0)\n",
      "Requirement already satisfied: vaderSentiment in /home/ericm/anaconda3/lib/python3.8/site-packages (3.3.2)\n",
      "Requirement already satisfied: requests in /home/ericm/anaconda3/lib/python3.8/site-packages (from vaderSentiment) (2.26.0)\n",
      "Requirement already satisfied: certifi>=2017.4.17 in /home/ericm/anaconda3/lib/python3.8/site-packages (from requests->vaderSentiment) (2021.10.8)\n",
      "Requirement already satisfied: charset-normalizer~=2.0.0 in /home/ericm/anaconda3/lib/python3.8/site-packages (from requests->vaderSentiment) (2.0.7)\n",
      "Requirement already satisfied: idna<4,>=2.5 in /home/ericm/anaconda3/lib/python3.8/site-packages (from requests->vaderSentiment) (3.3)\n",
      "Requirement already satisfied: urllib3<1.27,>=1.21.1 in /home/ericm/anaconda3/lib/python3.8/site-packages (from requests->vaderSentiment) (1.26.7)\n"
     ]
    }
   ],
   "source": [
    "!pip install better_profanity\n",
    "!pip install vaderSentiment"
   ]
  },
  {
   "cell_type": "markdown",
   "id": "b3f71e4a",
   "metadata": {},
   "source": [
    "## Load data"
   ]
  },
  {
   "cell_type": "code",
   "execution_count": 2,
   "id": "27602785",
   "metadata": {},
   "outputs": [
    {
     "data": {
      "text/plain": [
       "42573"
      ]
     },
     "execution_count": 2,
     "metadata": {},
     "output_type": "execute_result"
    }
   ],
   "source": [
    "source_flist = glob(\"../data/dataset/source_tweets/*.csv\")\n",
    "df_source = []\n",
    "for fname in source_flist:\n",
    "    df_source += [pd.read_csv(fname, dtype=str)]\n",
    "df_source = pd.concat(df_source)\n",
    "for col in ['retweet_count', 'quote_count', 'like_count', 'reply_count']:\n",
    "    df_source[col] = pd.to_numeric(df_source[col], errors='coerce')\n",
    "df_source.reset_index(drop=True, inplace=True)\n",
    "len(df_source)"
   ]
  },
  {
   "cell_type": "code",
   "execution_count": 3,
   "id": "79948b41",
   "metadata": {},
   "outputs": [
    {
     "data": {
      "text/html": [
       "<div>\n",
       "<style scoped>\n",
       "    .dataframe tbody tr th:only-of-type {\n",
       "        vertical-align: middle;\n",
       "    }\n",
       "\n",
       "    .dataframe tbody tr th {\n",
       "        vertical-align: top;\n",
       "    }\n",
       "\n",
       "    .dataframe thead th {\n",
       "        text-align: right;\n",
       "    }\n",
       "</style>\n",
       "<table border=\"1\" class=\"dataframe\">\n",
       "  <thead>\n",
       "    <tr style=\"text-align: right;\">\n",
       "      <th></th>\n",
       "      <th>tweet_id</th>\n",
       "      <th>text</th>\n",
       "      <th>author_id</th>\n",
       "      <th>conversation_id</th>\n",
       "      <th>reply_settings</th>\n",
       "      <th>created_at</th>\n",
       "      <th>in_reply_to_user_id</th>\n",
       "      <th>lang</th>\n",
       "      <th>retweet_count</th>\n",
       "      <th>reply_count</th>\n",
       "      <th>like_count</th>\n",
       "      <th>quote_count</th>\n",
       "      <th>possibly_sensitive</th>\n",
       "      <th>reference_type</th>\n",
       "      <th>referenced_tweet_id</th>\n",
       "      <th>hashtags</th>\n",
       "    </tr>\n",
       "  </thead>\n",
       "  <tbody>\n",
       "    <tr>\n",
       "      <th>0</th>\n",
       "      <td>1293312474473693184</td>\n",
       "      <td>How could @chrisbharrison not ask the first ki...</td>\n",
       "      <td>26737428</td>\n",
       "      <td>1293312474473693184</td>\n",
       "      <td>everyone</td>\n",
       "      <td>2020-08-11T22:24:57.000Z</td>\n",
       "      <td>NaN</td>\n",
       "      <td>en</td>\n",
       "      <td>0.0</td>\n",
       "      <td>0.0</td>\n",
       "      <td>0.0</td>\n",
       "      <td>0.0</td>\n",
       "      <td>False</td>\n",
       "      <td>NaN</td>\n",
       "      <td>NaN</td>\n",
       "      <td>TheBachelorGOAT</td>\n",
       "    </tr>\n",
       "    <tr>\n",
       "      <th>1</th>\n",
       "      <td>1291516028304928768</td>\n",
       "      <td>I can’t watch big brother anymore cause my fir...</td>\n",
       "      <td>1234701687119634434</td>\n",
       "      <td>1291516028304928768</td>\n",
       "      <td>everyone</td>\n",
       "      <td>2020-08-06T23:26:31.000Z</td>\n",
       "      <td>NaN</td>\n",
       "      <td>en</td>\n",
       "      <td>0.0</td>\n",
       "      <td>0.0</td>\n",
       "      <td>1.0</td>\n",
       "      <td>0.0</td>\n",
       "      <td>False</td>\n",
       "      <td>NaN</td>\n",
       "      <td>NaN</td>\n",
       "      <td>BB22</td>\n",
       "    </tr>\n",
       "    <tr>\n",
       "      <th>2</th>\n",
       "      <td>1290259091667816448</td>\n",
       "      <td>First panic attack of the day &amp;amp; it’s not e...</td>\n",
       "      <td>4062908727</td>\n",
       "      <td>1290259091667816448</td>\n",
       "      <td>everyone</td>\n",
       "      <td>2020-08-03T12:11:53.000Z</td>\n",
       "      <td>NaN</td>\n",
       "      <td>en</td>\n",
       "      <td>1.0</td>\n",
       "      <td>3.0</td>\n",
       "      <td>21.0</td>\n",
       "      <td>0.0</td>\n",
       "      <td>False</td>\n",
       "      <td>NaN</td>\n",
       "      <td>NaN</td>\n",
       "      <td>SAPro</td>\n",
       "    </tr>\n",
       "    <tr>\n",
       "      <th>3</th>\n",
       "      <td>1289991519357698048</td>\n",
       "      <td>Had my first panic attack at @SamsClub  today ...</td>\n",
       "      <td>752698184661475329</td>\n",
       "      <td>1289991519357698048</td>\n",
       "      <td>everyone</td>\n",
       "      <td>2020-08-02T18:28:39.000Z</td>\n",
       "      <td>NaN</td>\n",
       "      <td>en</td>\n",
       "      <td>0.0</td>\n",
       "      <td>2.0</td>\n",
       "      <td>1.0</td>\n",
       "      <td>0.0</td>\n",
       "      <td>False</td>\n",
       "      <td>NaN</td>\n",
       "      <td>NaN</td>\n",
       "      <td>panicattacks Anxiety stick manual driving sams...</td>\n",
       "    </tr>\n",
       "    <tr>\n",
       "      <th>4</th>\n",
       "      <td>1289324147286433793</td>\n",
       "      <td>Yesterday I had my first panic attack in a yea...</td>\n",
       "      <td>479122895</td>\n",
       "      <td>1289324147286433793</td>\n",
       "      <td>everyone</td>\n",
       "      <td>2020-07-31T22:16:45.000Z</td>\n",
       "      <td>NaN</td>\n",
       "      <td>en</td>\n",
       "      <td>0.0</td>\n",
       "      <td>1.0</td>\n",
       "      <td>3.0</td>\n",
       "      <td>0.0</td>\n",
       "      <td>False</td>\n",
       "      <td>NaN</td>\n",
       "      <td>NaN</td>\n",
       "      <td>panicdisorder panicattack pots dysautonomia</td>\n",
       "    </tr>\n",
       "  </tbody>\n",
       "</table>\n",
       "</div>"
      ],
      "text/plain": [
       "              tweet_id                                               text  \\\n",
       "0  1293312474473693184  How could @chrisbharrison not ask the first ki...   \n",
       "1  1291516028304928768  I can’t watch big brother anymore cause my fir...   \n",
       "2  1290259091667816448  First panic attack of the day &amp; it’s not e...   \n",
       "3  1289991519357698048  Had my first panic attack at @SamsClub  today ...   \n",
       "4  1289324147286433793  Yesterday I had my first panic attack in a yea...   \n",
       "\n",
       "             author_id      conversation_id reply_settings  \\\n",
       "0             26737428  1293312474473693184       everyone   \n",
       "1  1234701687119634434  1291516028304928768       everyone   \n",
       "2           4062908727  1290259091667816448       everyone   \n",
       "3   752698184661475329  1289991519357698048       everyone   \n",
       "4            479122895  1289324147286433793       everyone   \n",
       "\n",
       "                 created_at in_reply_to_user_id lang  retweet_count  \\\n",
       "0  2020-08-11T22:24:57.000Z                 NaN   en            0.0   \n",
       "1  2020-08-06T23:26:31.000Z                 NaN   en            0.0   \n",
       "2  2020-08-03T12:11:53.000Z                 NaN   en            1.0   \n",
       "3  2020-08-02T18:28:39.000Z                 NaN   en            0.0   \n",
       "4  2020-07-31T22:16:45.000Z                 NaN   en            0.0   \n",
       "\n",
       "   reply_count  like_count  quote_count possibly_sensitive reference_type  \\\n",
       "0          0.0         0.0          0.0              False            NaN   \n",
       "1          0.0         1.0          0.0              False            NaN   \n",
       "2          3.0        21.0          0.0              False            NaN   \n",
       "3          2.0         1.0          0.0              False            NaN   \n",
       "4          1.0         3.0          0.0              False            NaN   \n",
       "\n",
       "  referenced_tweet_id                                           hashtags  \n",
       "0                 NaN                                    TheBachelorGOAT  \n",
       "1                 NaN                                               BB22  \n",
       "2                 NaN                                              SAPro  \n",
       "3                 NaN  panicattacks Anxiety stick manual driving sams...  \n",
       "4                 NaN        panicdisorder panicattack pots dysautonomia  "
      ]
     },
     "execution_count": 3,
     "metadata": {},
     "output_type": "execute_result"
    }
   ],
   "source": [
    "df_source.head()"
   ]
  },
  {
   "cell_type": "code",
   "execution_count": 4,
   "id": "f0cb72d1",
   "metadata": {},
   "outputs": [
    {
     "data": {
      "text/plain": [
       "51414"
      ]
     },
     "execution_count": 4,
     "metadata": {},
     "output_type": "execute_result"
    }
   ],
   "source": [
    "reply_flist = glob(\"../data/dataset/reply_chains/*.csv\")\n",
    "df_replies = []\n",
    "for fname in reply_flist:\n",
    "    df_replies += [pd.read_csv(fname, dtype=str)]\n",
    "df_replies = pd.concat(df_replies)\n",
    "for col in ['retweet_count', 'quote_count', 'like_count', 'reply_count']:\n",
    "    df_replies[col] = pd.to_numeric(df_replies[col], errors='coerce')\n",
    "df_replies['referenced_tweet_id'] = df_replies['referenced_tweet_id'].astype(object)\n",
    "df_replies.reset_index(drop=True, inplace=True)\n",
    "len(df_replies)"
   ]
  },
  {
   "cell_type": "code",
   "execution_count": 5,
   "id": "c5f427b1",
   "metadata": {},
   "outputs": [
    {
     "data": {
      "text/html": [
       "<div>\n",
       "<style scoped>\n",
       "    .dataframe tbody tr th:only-of-type {\n",
       "        vertical-align: middle;\n",
       "    }\n",
       "\n",
       "    .dataframe tbody tr th {\n",
       "        vertical-align: top;\n",
       "    }\n",
       "\n",
       "    .dataframe thead th {\n",
       "        text-align: right;\n",
       "    }\n",
       "</style>\n",
       "<table border=\"1\" class=\"dataframe\">\n",
       "  <thead>\n",
       "    <tr style=\"text-align: right;\">\n",
       "      <th></th>\n",
       "      <th>tweet_id</th>\n",
       "      <th>text</th>\n",
       "      <th>author_id</th>\n",
       "      <th>conversation_id</th>\n",
       "      <th>reply_settings</th>\n",
       "      <th>created_at</th>\n",
       "      <th>in_reply_to_user_id</th>\n",
       "      <th>lang</th>\n",
       "      <th>retweet_count</th>\n",
       "      <th>reply_count</th>\n",
       "      <th>like_count</th>\n",
       "      <th>quote_count</th>\n",
       "      <th>possibly_sensitive</th>\n",
       "      <th>reference_type</th>\n",
       "      <th>referenced_tweet_id</th>\n",
       "      <th>hashtags</th>\n",
       "    </tr>\n",
       "  </thead>\n",
       "  <tbody>\n",
       "    <tr>\n",
       "      <th>0</th>\n",
       "      <td>1511151436196950027</td>\n",
       "      <td>@HeelsYes Me too</td>\n",
       "      <td>29469036</td>\n",
       "      <td>1511149853505691650</td>\n",
       "      <td>everyone</td>\n",
       "      <td>2022-04-05T01:19:12.000Z</td>\n",
       "      <td>248799990</td>\n",
       "      <td>en</td>\n",
       "      <td>0.0</td>\n",
       "      <td>0.0</td>\n",
       "      <td>0.0</td>\n",
       "      <td>0.0</td>\n",
       "      <td>False</td>\n",
       "      <td>replied_to</td>\n",
       "      <td>1511149853505691650</td>\n",
       "      <td>NaN</td>\n",
       "    </tr>\n",
       "    <tr>\n",
       "      <th>1</th>\n",
       "      <td>1511151288238682122</td>\n",
       "      <td>@jademloren https://t.co/vzwFg66eeZ</td>\n",
       "      <td>2953835985</td>\n",
       "      <td>1511148244491026440</td>\n",
       "      <td>everyone</td>\n",
       "      <td>2022-04-05T01:18:37.000Z</td>\n",
       "      <td>554414656</td>\n",
       "      <td>und</td>\n",
       "      <td>0.0</td>\n",
       "      <td>0.0</td>\n",
       "      <td>0.0</td>\n",
       "      <td>0.0</td>\n",
       "      <td>False</td>\n",
       "      <td>replied_to</td>\n",
       "      <td>1511148244491026440</td>\n",
       "      <td>NaN</td>\n",
       "    </tr>\n",
       "    <tr>\n",
       "      <th>2</th>\n",
       "      <td>1511122256335888394</td>\n",
       "      <td>@lindzjonas93 Welcome to the club. Accepting h...</td>\n",
       "      <td>559062040</td>\n",
       "      <td>1511113579449266177</td>\n",
       "      <td>everyone</td>\n",
       "      <td>2022-04-04T23:23:15.000Z</td>\n",
       "      <td>18530946</td>\n",
       "      <td>en</td>\n",
       "      <td>0.0</td>\n",
       "      <td>0.0</td>\n",
       "      <td>1.0</td>\n",
       "      <td>0.0</td>\n",
       "      <td>False</td>\n",
       "      <td>replied_to</td>\n",
       "      <td>1511113579449266177</td>\n",
       "      <td>NaN</td>\n",
       "    </tr>\n",
       "    <tr>\n",
       "      <th>3</th>\n",
       "      <td>1511153172953317385</td>\n",
       "      <td>@MullberryZone Uhhhhhh, yes pls</td>\n",
       "      <td>1268387232257376256</td>\n",
       "      <td>1511108428655218694</td>\n",
       "      <td>everyone</td>\n",
       "      <td>2022-04-05T01:26:06.000Z</td>\n",
       "      <td>1231092739493842944</td>\n",
       "      <td>en</td>\n",
       "      <td>0.0</td>\n",
       "      <td>0.0</td>\n",
       "      <td>0.0</td>\n",
       "      <td>0.0</td>\n",
       "      <td>False</td>\n",
       "      <td>replied_to</td>\n",
       "      <td>1511108428655218694</td>\n",
       "      <td>NaN</td>\n",
       "    </tr>\n",
       "    <tr>\n",
       "      <th>4</th>\n",
       "      <td>1511113028309245952</td>\n",
       "      <td>@MullberryZone Let's do it, NOW</td>\n",
       "      <td>741358912314560512</td>\n",
       "      <td>1511108428655218694</td>\n",
       "      <td>everyone</td>\n",
       "      <td>2022-04-04T22:46:35.000Z</td>\n",
       "      <td>1231092739493842944</td>\n",
       "      <td>en</td>\n",
       "      <td>0.0</td>\n",
       "      <td>0.0</td>\n",
       "      <td>1.0</td>\n",
       "      <td>0.0</td>\n",
       "      <td>False</td>\n",
       "      <td>replied_to</td>\n",
       "      <td>1511108428655218694</td>\n",
       "      <td>NaN</td>\n",
       "    </tr>\n",
       "  </tbody>\n",
       "</table>\n",
       "</div>"
      ],
      "text/plain": [
       "              tweet_id                                               text  \\\n",
       "0  1511151436196950027                                   @HeelsYes Me too   \n",
       "1  1511151288238682122                @jademloren https://t.co/vzwFg66eeZ   \n",
       "2  1511122256335888394  @lindzjonas93 Welcome to the club. Accepting h...   \n",
       "3  1511153172953317385                    @MullberryZone Uhhhhhh, yes pls   \n",
       "4  1511113028309245952                    @MullberryZone Let's do it, NOW   \n",
       "\n",
       "             author_id      conversation_id reply_settings  \\\n",
       "0             29469036  1511149853505691650       everyone   \n",
       "1           2953835985  1511148244491026440       everyone   \n",
       "2            559062040  1511113579449266177       everyone   \n",
       "3  1268387232257376256  1511108428655218694       everyone   \n",
       "4   741358912314560512  1511108428655218694       everyone   \n",
       "\n",
       "                 created_at  in_reply_to_user_id lang  retweet_count  \\\n",
       "0  2022-04-05T01:19:12.000Z            248799990   en            0.0   \n",
       "1  2022-04-05T01:18:37.000Z            554414656  und            0.0   \n",
       "2  2022-04-04T23:23:15.000Z             18530946   en            0.0   \n",
       "3  2022-04-05T01:26:06.000Z  1231092739493842944   en            0.0   \n",
       "4  2022-04-04T22:46:35.000Z  1231092739493842944   en            0.0   \n",
       "\n",
       "   reply_count  like_count  quote_count possibly_sensitive reference_type  \\\n",
       "0          0.0         0.0          0.0              False     replied_to   \n",
       "1          0.0         0.0          0.0              False     replied_to   \n",
       "2          0.0         1.0          0.0              False     replied_to   \n",
       "3          0.0         0.0          0.0              False     replied_to   \n",
       "4          0.0         1.0          0.0              False     replied_to   \n",
       "\n",
       "   referenced_tweet_id hashtags  \n",
       "0  1511149853505691650      NaN  \n",
       "1  1511148244491026440      NaN  \n",
       "2  1511113579449266177      NaN  \n",
       "3  1511108428655218694      NaN  \n",
       "4  1511108428655218694      NaN  "
      ]
     },
     "execution_count": 5,
     "metadata": {},
     "output_type": "execute_result"
    }
   ],
   "source": [
    "df_replies.head()"
   ]
  },
  {
   "cell_type": "markdown",
   "id": "c96a10f4",
   "metadata": {},
   "source": [
    "## Derive tweet features for analysis"
   ]
  },
  {
   "cell_type": "code",
   "execution_count": 6,
   "id": "bccbca9a",
   "metadata": {},
   "outputs": [
    {
     "name": "stdout",
     "output_type": "stream",
     "text": [
      "2022-04-05 04:10:27 2009-04-15 20:18:56\n"
     ]
    }
   ],
   "source": [
    "df_source['Date_time'] = df_source['created_at'].astype('datetime64[ns]')\n",
    "print(df_source.Date_time.max(), df_source.Date_time.min())"
   ]
  },
  {
   "cell_type": "code",
   "execution_count": 7,
   "id": "84090f38",
   "metadata": {},
   "outputs": [],
   "source": [
    "df_source['created_at'] = pd.to_datetime(df_source['created_at'], infer_datetime_format=True) \n",
    "df_source['created_at_month'] = df_source['created_at'].dt.month\n",
    "df_source['created_at_day'] = df_source['created_at'].dt.day\n",
    "df_source['created_at_year'] = df_source['created_at'].dt.year\n",
    "df_source['created_at_hour'] = df_source['created_at'].dt.hour\n",
    "df_source['created_at_hour'].fillna(df_source['created_at_hour'].median(), inplace=True)\n",
    "#print(max(df_source['created_at_month']), min(df_source['created_at_month']))\n",
    "#print(max(df_source['created_at_day']), min(df_source['created_at_day']))\n",
    "#print(max(df_source['created_at_year']), min(df_source['created_at_year']))\n",
    "#print(max(df_source['created_at_hour']), min(df_source['created_at_hour']))\n",
    "#df_source.drop(\"created_at\", axis=1, inplace=True)"
   ]
  },
  {
   "cell_type": "code",
   "execution_count": 8,
   "id": "b2481037",
   "metadata": {},
   "outputs": [
    {
     "name": "stderr",
     "output_type": "stream",
     "text": [
      "100%|███████████████████████████████████| 42573/42573 [00:13<00:00, 3073.10it/s]\n"
     ]
    }
   ],
   "source": [
    "# Derive the VADER scores for the tweets\n",
    "\n",
    "sia = SentimentIntensityAnalyzer()\n",
    "\n",
    "positive_sentiment = []\n",
    "negative_sentiment = []\n",
    "overall_sentiment = []\n",
    "\n",
    "text = df_source.text\n",
    "for tweet in tqdm(text):\n",
    "    results = sia.polarity_scores(tweet)\n",
    "    positive_sentiment.append(results['pos'])\n",
    "    negative_sentiment.append(results['neg'])\n",
    "    overall_sentiment.append(results['compound'])\n",
    "\n",
    "df_source['tweet_positivity'] = positive_sentiment\n",
    "df_source['tweet_negativity'] = negative_sentiment\n",
    "df_source['tweet_overall_sentiment'] = overall_sentiment"
   ]
  },
  {
   "cell_type": "code",
   "execution_count": 10,
   "id": "a77d2aed",
   "metadata": {},
   "outputs": [
    {
     "name": "stdout",
     "output_type": "stream",
     "text": [
      "17164\n"
     ]
    }
   ],
   "source": [
    "# Convert hashtags to number of hashtags\n",
    "hashtags = df_source.hashtags\n",
    "contains_hashtag = []\n",
    "for h in hashtags:\n",
    "    if pd.isna(h):\n",
    "        contains_hashtag.append(0)\n",
    "    else:\n",
    "        contains_hashtag.append(1)\n",
    "print(sum(contains_hashtag))  # number of tweets with hashtags\n",
    "df_source['contains_hashtag'] = contains_hashtag\n",
    "#df_source.drop(\"hashtags\", axis=1, inplace=True)"
   ]
  },
  {
   "cell_type": "code",
   "execution_count": 11,
   "id": "e8af5a50",
   "metadata": {},
   "outputs": [
    {
     "name": "stdout",
     "output_type": "stream",
     "text": [
      "1672\n"
     ]
    }
   ],
   "source": [
    "# Derive mentions\n",
    "mentions = []\n",
    "tweets = df_source.text\n",
    "for tweet in tweets:\n",
    "    if \"@\" in tweet:\n",
    "        mentions.append(1)\n",
    "    else:\n",
    "        mentions.append(0)\n",
    "df_source['mentions'] = mentions\n",
    "print(sum(mentions))"
   ]
  },
  {
   "cell_type": "code",
   "execution_count": 12,
   "id": "128791fe",
   "metadata": {},
   "outputs": [],
   "source": [
    "# Derive capitals\n",
    "capitals = []\n",
    "tweets = df_source.text\n",
    "for tweet in tweets:\n",
    "    alph = list(filter(str.isalpha, tweet)) \n",
    "    if len(alph) > 0:\n",
    "        capitals.append(sum(map(str.isupper, alph)) / len(alph))\n",
    "    else:\n",
    "        capitals.append(0)\n",
    "df_source['capitals'] = capitals"
   ]
  },
  {
   "cell_type": "code",
   "execution_count": 19,
   "id": "d7c8141e",
   "metadata": {},
   "outputs": [
    {
     "name": "stderr",
     "output_type": "stream",
     "text": [
      "100%|█████████████████████████████████████| 42569/42569 [07:32<00:00, 94.17it/s]"
     ]
    },
    {
     "name": "stdout",
     "output_type": "stream",
     "text": [
      "0.0 0.0 0.0\n",
      "0 0 0\n"
     ]
    },
    {
     "name": "stderr",
     "output_type": "stream",
     "text": [
      "\n"
     ]
    }
   ],
   "source": [
    "swear_words = []  # % words that are swear words\n",
    "uses_profanity = []  # 0 = no profanity present. 1 = profanity present.\n",
    "\n",
    "tweets = df_source.text\n",
    "for tweet in tqdm(tweets):\n",
    "    words = tweet.split()\n",
    "    swear_count = 0\n",
    "    contains_swear = False\n",
    "    for word in words:\n",
    "        if profanity.contains_profanity(word):\n",
    "            swear_count += 1\n",
    "            contains_swear = True\n",
    "    if len(words) > 0:\n",
    "        swear_words.append(swear_count/len(words))\n",
    "    else:\n",
    "        swear_words.append(0)\n",
    "    if contains_swear:\n",
    "        uses_profanity.append(1)\n",
    "    else:\n",
    "        uses_profanity.append(0)\n",
    "df_source['swear_words'] = swear_words\n",
    "df_source['uses_profanity'] = uses_profanity\n",
    "#print(swear_words[10], swear_words[25], swear_words[28])\n",
    "#print(uses_profanity[10], uses_profanity[25], uses_profanity[28])"
   ]
  },
  {
   "cell_type": "code",
   "execution_count": 22,
   "id": "ff341528",
   "metadata": {},
   "outputs": [],
   "source": [
    "# Derive contains question\n",
    "contains_question = []\n",
    "tweets = df_source.text\n",
    "for tweet in tweets:\n",
    "    if \"?\" in tweet:\n",
    "        contains_question.append(1)\n",
    "    else:\n",
    "        contains_question.append(0)\n",
    "df_source['contains_question'] = contains_question\n",
    "print(contains_question[:5])"
   ]
  },
  {
   "cell_type": "code",
   "execution_count": 23,
   "id": "b78d2b8b",
   "metadata": {},
   "outputs": [
    {
     "name": "stdout",
     "output_type": "stream",
     "text": [
      "[27, 44, 14, 49, 27]\n"
     ]
    }
   ],
   "source": [
    "# Derive number of words\n",
    "num_words = []\n",
    "tweets = df_source.text\n",
    "for tweet in tweets:\n",
    "    num_words.append(len(tweet.split()))\n",
    "df_source['number_of_words'] = num_words\n",
    "print(num_words[:5])"
   ]
  },
  {
   "cell_type": "code",
   "execution_count": 24,
   "id": "758bf7ee",
   "metadata": {},
   "outputs": [
    {
     "name": "stdout",
     "output_type": "stream",
     "text": [
      "[0.9166666666666666, 0.9583333333333334, 0.5, 0.75, 0.9166666666666666]\n"
     ]
    }
   ],
   "source": [
    "# Derive time of day\n",
    "time_of_day = []\n",
    "hours = df_source.created_at_hour\n",
    "for hour in hours:\n",
    "    time_of_day.append(hour/24)\n",
    "df_source['time_of_day'] = time_of_day\n",
    "print(time_of_day[:5])"
   ]
  },
  {
   "cell_type": "code",
   "execution_count": 25,
   "id": "04572987",
   "metadata": {},
   "outputs": [],
   "source": [
    "# Derive first person\n",
    "first_person = []\n",
    "\n",
    "fp_words = [\"i\", \"me\", \"my\", \"we\", \"us\", \"mine\", \"our\", \"myself\", \"ourselves\"]\n",
    "\n",
    "tweets = df_source.text\n",
    "for tweet in tweets:\n",
    "    words = tweet.split()\n",
    "    flag = True\n",
    "    for word in words:\n",
    "        word = word.lower()\n",
    "        clean_word = ''.join(filter(str.isalpha, word))\n",
    "        if word in fp_words:\n",
    "            first_person.append(1)\n",
    "            flag = False\n",
    "            break\n",
    "    if flag:\n",
    "        first_person.append(0)\n",
    "df_source['first_person'] = first_person"
   ]
  },
  {
   "cell_type": "markdown",
   "id": "31461975",
   "metadata": {},
   "source": [
    "## Analysis 1: tweet features vs engagement received"
   ]
  },
  {
   "cell_type": "code",
   "execution_count": 9,
   "id": "b40c6398",
   "metadata": {},
   "outputs": [
    {
     "name": "stdout",
     "output_type": "stream",
     "text": [
      "12.866780990861894\n"
     ]
    }
   ],
   "source": [
    "# Derive the interaction scores for the tweets\n",
    "df_source = df_source[df_source['like_count'].notna()]\n",
    "df_source = df_source[df_source['retweet_count'].notna()]\n",
    "df_source = df_source[df_source['reply_count'].notna()]\n",
    "df_source = df_source[df_source['quote_count'].notna()]\n",
    "index_names = df_source[df_source['quote_count'] == \"False\" ].index\n",
    "df_source.drop(index_names, inplace = True)\n",
    "\n",
    "likes = df_source['like_count'].tolist()\n",
    "retweets = df_source['retweet_count'].tolist()\n",
    "replies = df_source['reply_count'].tolist()\n",
    "quotes = df_source['quote_count'].tolist()\n",
    "quotes = list(map(int, quotes))\n",
    "quotes = [float(i) for i in quotes]\n",
    "\n",
    "interaction_score = []\n",
    "for i in range(len(likes)):\n",
    "    interaction_score.append(quotes[i]*10 + replies[i]*5 + retweets[i]*3 + likes[i])\n",
    "    \n",
    "df_source['interaction_score'] = interaction_score\n",
    "df_source['quote_count'] = quotes\n",
    "\n",
    "print(df_source['interaction_score'].mean())"
   ]
  },
  {
   "cell_type": "code",
   "execution_count": 41,
   "id": "57dbdcad",
   "metadata": {},
   "outputs": [
    {
     "name": "stdout",
     "output_type": "stream",
     "text": [
      "42569 42569\n"
     ]
    }
   ],
   "source": [
    "model_data = df_source[['tweet_positivity','tweet_negativity','contains_hashtag','capitals','mentions','swear_words','uses_profanity','contains_question','number_of_words','time_of_day','first_person']]\n",
    "#model_data = df_source[['tweet_positivity','tweet_negativity','mentions','swear_words']]\n",
    "#model_data = df_source[['tweet_positivity','mentions','swear_words']]\n",
    "model_labels = df_source.interaction_score\n",
    "print(len(model_data), len(model_labels))"
   ]
  },
  {
   "cell_type": "code",
   "execution_count": 42,
   "id": "efb2bd00",
   "metadata": {},
   "outputs": [
    {
     "name": "stdout",
     "output_type": "stream",
     "text": [
      "34055 8514\n"
     ]
    }
   ],
   "source": [
    "X_train, X_test, y_train, y_test = train_test_split(model_data, model_labels, test_size=.2)#, stratify=model_labels)\n",
    "print(len(X_train), len(X_test))"
   ]
  },
  {
   "cell_type": "code",
   "execution_count": 44,
   "id": "abbe40d3",
   "metadata": {},
   "outputs": [
    {
     "data": {
      "text/plain": [
       "LinearRegression()"
      ]
     },
     "execution_count": 44,
     "metadata": {},
     "output_type": "execute_result"
    }
   ],
   "source": [
    "from sklearn import linear_model\n",
    "model = linear_model.LinearRegression()\n",
    "model.fit(X_train, y_train)"
   ]
  },
  {
   "cell_type": "code",
   "execution_count": 45,
   "id": "f8f0be69",
   "metadata": {},
   "outputs": [],
   "source": [
    "predictions = model.predict(X_test)"
   ]
  },
  {
   "cell_type": "code",
   "execution_count": 46,
   "id": "0b847873",
   "metadata": {},
   "outputs": [
    {
     "name": "stdout",
     "output_type": "stream",
     "text": [
      "17.054830882979466\n",
      "10068.828669367673\n",
      "100.34355320282252\n"
     ]
    }
   ],
   "source": [
    "print(metrics.mean_absolute_error(y_test, predictions))\n",
    "print(metrics.mean_squared_error(y_test, predictions))\n",
    "print(np.sqrt(metrics.mean_squared_error(y_test, predictions)))"
   ]
  },
  {
   "cell_type": "code",
   "execution_count": 47,
   "id": "ccd15867",
   "metadata": {},
   "outputs": [
    {
     "name": "stdout",
     "output_type": "stream",
     "text": [
      "-0.001604968517464389\n"
     ]
    }
   ],
   "source": [
    "from sklearn.metrics import r2_score\n",
    "r2 = r2_score(y_test,predictions)\n",
    "print(r2)"
   ]
  },
  {
   "cell_type": "code",
   "execution_count": 48,
   "id": "dad1933e",
   "metadata": {},
   "outputs": [
    {
     "name": "stdout",
     "output_type": "stream",
     "text": [
      "RMSE 4.608599830057818\n"
     ]
    }
   ],
   "source": [
    "print(\"RMSE\",np.log(np.sqrt(metrics.mean_squared_error(y_test,predictions))))"
   ]
  },
  {
   "cell_type": "code",
   "execution_count": 49,
   "id": "411dc73f",
   "metadata": {},
   "outputs": [
    {
     "name": "stdout",
     "output_type": "stream",
     "text": [
      "Feature: 0, Score: 11.60914\n",
      "Feature: 1, Score: 11.26526\n",
      "Feature: 2, Score: -2.13360\n",
      "Feature: 3, Score: 3.65532\n",
      "Feature: 4, Score: 18.12000\n",
      "Feature: 5, Score: -79.85832\n",
      "Feature: 6, Score: 8.23365\n",
      "Feature: 7, Score: -3.01561\n",
      "Feature: 8, Score: 0.76258\n",
      "Feature: 9, Score: 4.51096\n",
      "Feature: 10, Score: -5.20378\n",
      " \n",
      " \n",
      " \n"
     ]
    },
    {
     "data": {
      "image/png": "[encoded data removed]",
      "text/plain": [
       "<Figure size 432x288 with 1 Axes>"
      ]
     },
     "metadata": {
      "needs_background": "light"
     },
     "output_type": "display_data"
    }
   ],
   "source": [
    "importance = model.coef_\n",
    "# summarize feature importance\n",
    "for i,v in enumerate(importance):\n",
    "\tprint('Feature: %0d, Score: %.5f' % (i,v))\n",
    "# plot feature importance\n",
    "\n",
    "\n",
    "print(\" \")\n",
    "print(\" \")\n",
    "print(\" \")\n",
    "bars = ['Positive Sentiment', 'Negative Sentiment', 'Contains Hashtag', 'Capitals', 'Mentions', 'Swear Words', 'Uses Profanity', 'Contains Question', 'Number of Words', 'Time of Day', 'First Person']\n",
    "#plt.title(\"Feature Importance\")\n",
    "plt.bar(bars, importance)\n",
    "plt.xticks(rotation=90)\n",
    "plt.show()"
   ]
  },
  {
   "cell_type": "markdown",
   "id": "189b8169",
   "metadata": {},
   "source": [
    "## Analysis 2: tweet features vs reply sentiment"
   ]
  },
  {
   "cell_type": "code",
   "execution_count": 27,
   "id": "75e4f636",
   "metadata": {},
   "outputs": [],
   "source": [
    "sentiment_df = df_source.copy()"
   ]
  },
  {
   "cell_type": "code",
   "execution_count": 29,
   "id": "5c0c048e",
   "metadata": {},
   "outputs": [
    {
     "name": "stderr",
     "output_type": "stream",
     "text": [
      "100%|█████████████████████████████████████| 42569/42569 [36:46<00:00, 19.30it/s]\n"
     ]
    }
   ],
   "source": [
    "# Derive reply VADER sentiment\n",
    "\n",
    "conversations = sentiment_df.conversation_id\n",
    "response_sentiment = []\n",
    "count = 1\n",
    "for con in tqdm(conversations):\n",
    "    count += 1\n",
    "\n",
    "    temp_df = df_replies.copy()\n",
    "\n",
    "    index_names = temp_df[ temp_df['conversation_id'] != con ].index\n",
    "    temp_df.drop(index_names, inplace=True)\n",
    "\n",
    "    temp_tweets = temp_df.text\n",
    "    sentiment_sum = 0\n",
    "    for tweet in temp_tweets:\n",
    "        results = sia.polarity_scores(tweet)\n",
    "        sentiment_sum += results['compound']\n",
    "\n",
    "    if len(temp_tweets) == 0:\n",
    "        response_sentiment.append(np.nan)\n",
    "    else:\n",
    "        response_sentiment.append(sentiment_sum/len(temp_tweets))\n",
    "    del temp_df\n",
    "\n",
    "sentiment_df['response_sentiment'] = response_sentiment\n",
    "index_names = sentiment_df[ sentiment_df['response_sentiment'] == np.nan].index\n",
    "sentiment_df.drop(index_names, inplace=True)"
   ]
  },
  {
   "cell_type": "code",
   "execution_count": 30,
   "id": "434b290a",
   "metadata": {},
   "outputs": [
    {
     "name": "stdout",
     "output_type": "stream",
     "text": [
      "1    4974\n",
      "0    1482\n",
      "Name: reaction, dtype: int64\n"
     ]
    }
   ],
   "source": [
    "# Derive label\n",
    "responses = sentiment_df.response_sentiment\n",
    "reaction = []\n",
    "for response in responses:\n",
    "    if response >= .25:\n",
    "        reaction.append(1)  # positive label\n",
    "    elif response <= -.25:\n",
    "        reaction.append(0)  # negative label\n",
    "    else:\n",
    "        reaction.append(2)  # invalid label (to be removed)\n",
    "\n",
    "sentiment_df['reaction'] = reaction\n",
    "index_names = sentiment_df[ sentiment_df['reaction'] > 1 ].index\n",
    "sentiment_df.drop(index_names, inplace=True)\n",
    "print(sentiment_df['reaction'].value_counts())"
   ]
  },
  {
   "cell_type": "code",
   "execution_count": 31,
   "id": "b4562617",
   "metadata": {},
   "outputs": [],
   "source": [
    "# Normalize word counts\n",
    "word_count = sentiment_df.number_of_words\n",
    "normalize_word_count = []\n",
    "min_count = min(word_count)\n",
    "max_count = max(word_count)\n",
    "\n",
    "for count in word_count:\n",
    "    normalize_word_count.append((count - min_count)/(max_count - min_count))\n",
    "\n",
    "sentiment_df['number_of_words'] = normalize_word_count"
   ]
  },
  {
   "cell_type": "code",
   "execution_count": 32,
   "id": "2bf73c80",
   "metadata": {},
   "outputs": [
    {
     "name": "stdout",
     "output_type": "stream",
     "text": [
      "6456 6456\n"
     ]
    }
   ],
   "source": [
    "reply_model_data = sentiment_df[['tweet_positivity','tweet_negativity','contains_hashtag','capitals','mentions','swear_words','uses_profanity','contains_question','number_of_words','time_of_day','first_person']]\n",
    "#reply_model_data = sentiment_df[['tweet_positivity','tweet_negativity','contains_hashtag','capitals','mentions','contains_question']]\n",
    "reply_model_labels = sentiment_df.reaction#df.interaction_score\n",
    "print(len(reply_model_data), len(reply_model_labels))"
   ]
  },
  {
   "cell_type": "code",
   "execution_count": 33,
   "id": "7c0ea583",
   "metadata": {},
   "outputs": [
    {
     "name": "stdout",
     "output_type": "stream",
     "text": [
      "5810 646\n"
     ]
    }
   ],
   "source": [
    "X_train_reply, X_test_reply, y_train_reply, y_test_reply = train_test_split(reply_model_data, reply_model_labels, test_size=.1, stratify=reply_model_labels)\n",
    "print(len(X_train_reply), len(X_test_reply))"
   ]
  },
  {
   "cell_type": "code",
   "execution_count": 34,
   "id": "b971d0dc",
   "metadata": {},
   "outputs": [
    {
     "data": {
      "text/plain": [
       "LinearSVC(C=0.55, class_weight='balanced')"
      ]
     },
     "execution_count": 34,
     "metadata": {},
     "output_type": "execute_result"
    }
   ],
   "source": [
    "from sklearn.svm import LinearSVC\n",
    "reply_model = LinearSVC(C=.55, class_weight=\"balanced\")\n",
    "reply_model.fit(X_train_reply, y_train_reply)"
   ]
  },
  {
   "cell_type": "code",
   "execution_count": 35,
   "id": "ada5017c",
   "metadata": {},
   "outputs": [
    {
     "name": "stdout",
     "output_type": "stream",
     "text": [
      "Accuracy:  0.5479876160990712\n",
      "Precision:  0.821875\n",
      "Recall:  0.5281124497991968\n",
      "F1_Score:  0.6430317848410758\n",
      "Specificity:  0.6148648648648649\n",
      "AUC:  0.5714886573320308\n"
     ]
    }
   ],
   "source": [
    "predictions = reply_model.predict(X_test_reply)\n",
    "# compute statistics\n",
    "\n",
    "accuracy = accuracy_score(y_test_reply, predictions)\n",
    "print(\"Accuracy: \", accuracy)\n",
    "\n",
    "precision1 = precision_score(y_test_reply, predictions)\n",
    "print(\"Precision: \", precision1)\n",
    "\n",
    "recall1 = recall_score(y_test_reply, predictions)\n",
    "print(\"Recall: \", recall1)\n",
    "\n",
    "f1_score1 = f1_score(y_test_reply,  predictions)\n",
    "print(\"F1_Score: \", f1_score1)\n",
    "\n",
    "specificity1 = recall_score(y_test_reply, predictions, pos_label=0)\n",
    "print(\"Specificity: \", specificity1)\n",
    "\n",
    "fpr1, tpr1, threshold1 = roc_curve(y_test_reply, predictions)\n",
    "auc1 = auc(fpr1, tpr1)\n",
    "print(\"AUC: \", auc1)"
   ]
  },
  {
   "cell_type": "code",
   "execution_count": 37,
   "id": "69e65324",
   "metadata": {},
   "outputs": [
    {
     "name": "stdout",
     "output_type": "stream",
     "text": [
      "[ 1.32624354 -0.1986621   0.18152189 -0.08506851  0.04923685 -0.27437803\n",
      " -0.17149145 -0.10825983  0.05484507  0.08580191  0.01699016]\n",
      "Feature: 0, Score: 1.32624\n",
      "Feature: 1, Score: -0.19866\n",
      "Feature: 2, Score: 0.18152\n",
      "Feature: 3, Score: -0.08507\n",
      "Feature: 4, Score: 0.04924\n",
      "Feature: 5, Score: -0.27438\n",
      "Feature: 6, Score: -0.17149\n",
      "Feature: 7, Score: -0.10826\n",
      "Feature: 8, Score: 0.05485\n",
      "Feature: 9, Score: 0.08580\n",
      "Feature: 10, Score: 0.01699\n",
      " \n",
      " \n",
      " \n"
     ]
    },
    {
     "data": {
      "image/png": "[encoded data removed]",
      "text/plain": [
       "<Figure size 432x288 with 1 Axes>"
      ]
     },
     "metadata": {
      "needs_background": "light"
     },
     "output_type": "display_data"
    }
   ],
   "source": [
    "importance = reply_model.coef_[0]\n",
    "print(importance)\n",
    "# summarize feature importance\n",
    "for i,v in enumerate(importance):\n",
    "\tprint('Feature: %0d, Score: %.5f' % (i,v))\n",
    "# plot feature importance\n",
    "print(\" \")\n",
    "print(\" \")\n",
    "print(\" \")\n",
    "bars = ['Positive Sentiment', 'Negative Sentiment', 'Contains Hashtag', 'Capitals', 'Mentions', 'Swear Words', 'Uses Profanity', 'Contains Question', 'Number of Words', 'Time of Day', 'First Person']\n",
    "#pyplot.title(\"Feature Importance\")\n",
    "plt.bar(bars, importance)\n",
    "plt.xticks(rotation=90)\n",
    "plt.show()"
   ]
  },
  {
   "cell_type": "code",
   "execution_count": null,
   "id": "0a699b3d",
   "metadata": {},
   "outputs": [],
   "source": []
  }
 ],
 "metadata": {
  "kernelspec": {
   "display_name": "Python 3 (ipykernel)",
   "language": "python",
   "name": "python3"
  },
  "language_info": {
   "codemirror_mode": {
    "name": "ipython",
    "version": 3
   },
   "file_extension": ".py",
   "mimetype": "text/x-python",
   "name": "python",
   "nbconvert_exporter": "python",
   "pygments_lexer": "ipython3",
   "version": "3.8.12"
  }
 },
 "nbformat": 4,
 "nbformat_minor": 5
}
